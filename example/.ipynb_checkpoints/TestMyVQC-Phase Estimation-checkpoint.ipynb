{
 "cells": [
  {
   "cell_type": "code",
   "execution_count": 1,
   "metadata": {},
   "outputs": [
    {
     "name": "stderr",
     "output_type": "stream",
     "text": [
      "┌ Info: Precompiling MyVQC [top-level]\n",
      "└ @ Base loading.jl:1273\n"
     ]
    }
   ],
   "source": [
    "push!(LOAD_PATH, \"../\")\n",
    "using MyVQC"
   ]
  },
  {
   "cell_type": "code",
   "execution_count": 19,
   "metadata": {},
   "outputs": [
    {
     "name": "stdout",
     "output_type": "stream",
     "text": [
      "\n",
      "projection for |ϕ>=|000> == 0.35355339059327345 + 0.0im\n",
      "projection for |ϕ>=|001> == -0.35355339059327345 + 0.0im\n",
      "projection for |ϕ>=|010> == 2.164890140588731e-17 + 0.35355339059327345im\n",
      "projection for |ϕ>=|011> == -2.164890140588731e-17 - 0.35355339059327345im\n",
      "projection for |ϕ>=|100> == 0.2499999999999998 + 0.24999999999999975im\n",
      "projection for |ϕ>=|101> == -0.2499999999999998 - 0.24999999999999975im\n",
      "projection for |ϕ>=|110> == -0.24999999999999972 + 0.24999999999999983im\n",
      "projection for |ϕ>=|111> == 0.24999999999999972 - 0.24999999999999983im\n"
     ]
    },
    {
     "data": {
      "text/plain": [
       "8-element Array{Complex{Float64},1}:\n",
       "     0.35355339059327373 + 0.0im                  \n",
       "                    0.25 + 0.24999999999999997im  \n",
       "   7.850462293418875e-17 + 0.35355339059327373im  \n",
       "    -0.24999999999999992 + 0.25000000000000006im  \n",
       "    -0.35355339059327373 + 1.570092458683775e-16im\n",
       "     -0.2500000000000001 - 0.24999999999999983im  \n",
       " -2.3551386880256624e-16 - 0.35355339059327373im  \n",
       "      0.2499999999999998 - 0.25000000000000017im  "
      ]
     },
     "execution_count": 19,
     "metadata": {},
     "output_type": "execute_result"
    }
   ],
   "source": [
    "# 遇到的一个问题！Rk门并不是一个U门\n",
    "# 第二个问题，执行后不满足归一化条件\n",
    "function QFT!(circuit::QuantumCircuit, begin_idx::Int64, end_idx::Int64)\n",
    "    for i in begin_idx:end_idx\n",
    "        push!(circuit, hadamard(i))\n",
    "        for n in (i+1):end_idx\n",
    "            push!(circuit, crk(n, i, n-i+1))\n",
    "        end\n",
    "    end\n",
    "end\n",
    "\n",
    "mps = initmps([0,0,1])\n",
    "circuit = initcircuit()\n",
    "QFT!(circuit, 1, 3)\n",
    "apply!(mps, circuit)\n",
    "projection_all(mps)\n",
    "\n",
    "# verify the result\n",
    "U = sqrt(im).^[0 0 0 0 0 0 0 0;0 1 2 3 4 5 6 7;0 2 4 6 0 2 4 6;0 3 6 1 4 7 2 5;0 4 0 4 0 4 0 4;0 5 2 7 4 1 6 3;0 6 4 2 0 6 4 2;0 7 6 5 4 3 2 1]\n",
    "U = U./sqrt(8)\n",
    "ϕ = [0,1,0,0,0,0,0,0]\n",
    "U * ϕ"
   ]
  },
  {
   "cell_type": "code",
   "execution_count": null,
   "metadata": {},
   "outputs": [],
   "source": []
  }
 ],
 "metadata": {
  "kernelspec": {
   "display_name": "Julia 1.3.0",
   "language": "julia",
   "name": "julia-1.3"
  },
  "language_info": {
   "file_extension": ".jl",
   "mimetype": "application/julia",
   "name": "julia",
   "version": "1.3.0"
  }
 },
 "nbformat": 4,
 "nbformat_minor": 2
}
