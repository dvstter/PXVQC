{
 "cells": [
  {
   "cell_type": "code",
   "execution_count": 1,
   "metadata": {},
   "outputs": [],
   "source": [
    "push!(LOAD_PATH, \"../\")\n",
    "using MyVQC\n",
    "using LinearAlgebra"
   ]
  },
  {
   "cell_type": "code",
   "execution_count": 2,
   "metadata": {},
   "outputs": [
    {
     "data": {
      "text/plain": [
       "rand_pure_state (generic function with 1 method)"
      ]
     },
     "execution_count": 2,
     "metadata": {},
     "output_type": "execute_result"
    }
   ],
   "source": [
    "function rand_pure_state(n::Int64)\n",
    "    r = rand(2^n)\n",
    "    fac = sqrt(sum(r.^2))\n",
    "    return r./fac\n",
    "end"
   ]
  },
  {
   "cell_type": "code",
   "execution_count": 40,
   "metadata": {},
   "outputs": [
    {
     "data": {
      "text/plain": [
       "transform_mps2! (generic function with 1 method)"
      ]
     },
     "execution_count": 40,
     "metadata": {},
     "output_type": "execute_result"
    }
   ],
   "source": [
    "verify_normalization(state::Array{𝕋, 1}) where {𝕋<:Number} = abs(1 - sum(state.^2)) < 0.000001 ? true : false\n",
    "#=\n",
    "# deprecated!!!\n",
    "function transform_mps!(state::Array{𝕋, 1}) where {𝕋<:Number}\n",
    "    # check parameter and get properties\n",
    "    !verify_normalization(state) && error(\"only pure quantum state can be transformed to mps\")\n",
    "    len = length(state)\n",
    "    nqubits = Int(log(2, len))\n",
    "    len != 2^nqubits && error(\"number of quantum state amplitude wrong\")\n",
    "    mps = initmps([])\n",
    "    \n",
    "    reshape_dims = 2\n",
    "    for i in 1:(nqubits-1) # each iteration will generate one site\n",
    "        # 1. transformation\n",
    "        state = reshape(state, reshape_dims, Int(length(state) / reshape_dims))\n",
    "        \n",
    "        # 2. SVD\n",
    "        F = svd(state)\n",
    "        sqrt_s = sqrt(Diagonal(F.S))\n",
    "        u = F.U * sqrt_s\n",
    "        vt = sqrt_s * F.Vt\n",
    "        \n",
    "        # 3. another transformation\n",
    "        reshape_dims = size(u)[2] * 2\n",
    "        push!(mps.data, reshape(u, Int(size(u)[1]/2), 2, size(u)[2]))\n",
    "        state = reshape(vt, length(vt)) # reshape to column vector\n",
    "    end\n",
    "    # 3. get the last site\n",
    "    push!(mps.data, reshape(state, 2, 2, 1))\n",
    "    return mps\n",
    "end\n",
    "=#\n",
    "\n",
    "# arbitrary state隐含了tensor product，因此需要该函数首先将state转换，否则的话，结果的概率幅是反的\n",
    "function __rev_state(state::Array{𝕋, 1}, nqubits::Int64) where {𝕋<:Number}\n",
    "    # 1. get 0->2^nqubits-1\n",
    "    # 2. change to bitstring, trim to nqubits' length and the reverse the order\n",
    "    # 3. parse to Int and +1(julia's index start from 1)\n",
    "    seq = [parse(Int, reverse(bitstring(i)[end-nqubits+1:end]), base=2)+1 for i in 0:(2^nqubits-1)]\n",
    "    return [state[x] for x in seq]\n",
    "end\n",
    "\n",
    "function transform_mps2!(state::Array{𝕋, 1}) where {𝕋<:Number}\n",
    "    # check parameter and get properties\n",
    "    !verify_normalization(state) && error(\"only pure quantum state can be transformed to mps\")\n",
    "    len = length(state)\n",
    "    nqubits = Int(log(2, len))\n",
    "    len != 2^nqubits && error(\"number of quantum state amplitude wrong\")\n",
    "    mps = initmps([])\n",
    "    \n",
    "    state = __rev_state(state, nqubits)\n",
    "    \n",
    "    reshape_dims = 2\n",
    "    for i in 1:nqubits # each iteration will generate one site\n",
    "        # 1. transformation\n",
    "        state = reshape(state, reshape_dims, Int(length(state) / reshape_dims))\n",
    "        \n",
    "        # 2. SVD\n",
    "        F = svd(state)\n",
    "        u = F.U\n",
    "        #vt = Diagonal(F.S) * F.Vt\n",
    "        vt = contract(Diagonal(F.S), F.Vt, (2,), (1,))\n",
    "        \n",
    "        # 3. another transformation\n",
    "        reshape_dims = size(u)[2] * 2\n",
    "        push!(mps.data, reshape(u, Int(size(u)[1]/2), 2, size(u)[2]))\n",
    "        state = reshape(vt, length(vt)) # reshape to column vector\n",
    "    end\n",
    "    return mps\n",
    "end\n"
   ]
  },
  {
   "cell_type": "code",
   "execution_count": 41,
   "metadata": {},
   "outputs": [
    {
     "name": "stdout",
     "output_type": "stream",
     "text": [
      "test1\n",
      "(1, 2, 2)\n",
      "(2, 2, 4)\n",
      "(4, 2, 2)\n",
      "(2, 2, 1)\n",
      "test2\n",
      "(1, 2, 2)\n",
      "(2, 2, 4)\n",
      "(4, 2, 4)\n",
      "(4, 2, 2)\n",
      "(2, 2, 1)\n",
      "test3\n",
      "(1, 2, 2)\n",
      "(2, 2, 4)\n",
      "(4, 2, 8)\n",
      "(8, 2, 4)\n",
      "(4, 2, 2)\n",
      "(2, 2, 1)\n"
     ]
    }
   ],
   "source": [
    "#=\n",
    "    This section test for transform_mps!'s (Part I)\n",
    "=#\n",
    "# generate random pure state\n",
    "Φ₁ = rand_pure_state(4)\n",
    "Φ₂ = rand_pure_state(5)\n",
    "Φ₃ = rand_pure_state(6)\n",
    "\n",
    "mps₁ = transform_mps2!(Φ₁)\n",
    "mps₂ = transform_mps2!(Φ₂)\n",
    "mps₃ = transform_mps2!(Φ₃)\n",
    "println(\"test1\")\n",
    "for each in mps₁.data\n",
    "    println(size(each))\n",
    "end\n",
    "\n",
    "println(\"test2\")\n",
    "for each in mps₂.data\n",
    "    println(size(each))\n",
    "end\n",
    "\n",
    "println(\"test3\")\n",
    "for each in mps₃.data\n",
    "    println(size(each))\n",
    "end"
   ]
  },
  {
   "cell_type": "code",
   "execution_count": 44,
   "metadata": {},
   "outputs": [
    {
     "name": "stdout",
     "output_type": "stream",
     "text": [
      "\n",
      "projection for |ϕ>=|0000> == 0.0\n",
      "projection for |ϕ>=|0001> == 0.0\n",
      "projection for |ϕ>=|0010> == 0.0\n",
      "projection for |ϕ>=|0011> == 0.7071067811865475\n",
      "projection for |ϕ>=|0100> == 0.0\n",
      "projection for |ϕ>=|0101> == 0.7071067811865475\n",
      "projection for |ϕ>=|0110> == 0.0\n",
      "projection for |ϕ>=|0111> == 0.0\n",
      "projection for |ϕ>=|1000> == 0.0\n",
      "projection for |ϕ>=|1001> == 0.0\n",
      "projection for |ϕ>=|1010> == 0.0\n",
      "projection for |ϕ>=|1011> == 0.0\n",
      "projection for |ϕ>=|1100> == 0.0\n",
      "projection for |ϕ>=|1101> == 0.0\n",
      "projection for |ϕ>=|1110> == 0.0\n",
      "projection for |ϕ>=|1111> == 0.0\n"
     ]
    }
   ],
   "source": [
    "#=\n",
    "    This section test for transform_mps! (Part I)\n",
    "=#\n",
    "Φ = (1/sqrt(2)) * [0,0,0,1,0,1,0,0,0,0,0,0,0,0,0,0]\n",
    "mps = transform_mps2!(Φ)\n",
    "projection_all(mps)"
   ]
  },
  {
   "cell_type": "code",
   "execution_count": 46,
   "metadata": {},
   "outputs": [
    {
     "name": "stdout",
     "output_type": "stream",
     "text": [
      "0.25047085320439527\n",
      "0.16906313382168758\n",
      "0.2143865814491001\n",
      "0.22620502890394767\n",
      "0.21417783719898714\n",
      "0.16450148995118488\n",
      "0.13784947900089867\n",
      "0.21024785863940249\n",
      "0.22474065975589763\n",
      "0.1681201276174252\n",
      "0.17436739297575177\n",
      "0.21050992402607585\n",
      "0.04210808701375906\n",
      "0.02789872209447038\n",
      "0.16497593958277526\n",
      "0.07360940726543955\n",
      "0.19518429330017137\n",
      "0.26136873545972733\n",
      "0.0257092900920897\n",
      "0.0062097466487569565\n",
      "0.22926025709711065\n",
      "0.18684799403352745\n",
      "0.09496533738686404\n",
      "0.1580739284301175\n",
      "0.11970561924843484\n",
      "0.033756711302044363\n",
      "0.20023066144074506\n",
      "0.13517518021927447\n",
      "0.3002853722162093\n",
      "0.26083322069514464\n",
      "0.15280595459121044\n",
      "0.052510596397955724\n",
      "\n",
      "projection for |ϕ>=|00000> == 0.2504708532043955\n",
      "projection for |ϕ>=|00001> == 0.1690631338216878\n",
      "projection for |ϕ>=|00010> == 0.2143865814491004\n",
      "projection for |ϕ>=|00011> == 0.22620502890394786\n",
      "projection for |ϕ>=|00100> == 0.2141778371989874\n",
      "projection for |ϕ>=|00101> == 0.16450148995118508\n",
      "projection for |ϕ>=|00110> == 0.13784947900089892\n",
      "projection for |ϕ>=|00111> == 0.2102478586394025\n",
      "projection for |ϕ>=|01000> == 0.22474065975589777\n",
      "projection for |ϕ>=|01001> == 0.16812012761742537\n",
      "projection for |ϕ>=|01010> == 0.17436739297575207\n",
      "projection for |ϕ>=|01011> == 0.21050992402607613\n",
      "projection for |ϕ>=|01100> == 0.042108087013759024\n",
      "projection for |ϕ>=|01101> == 0.027898722094470384\n",
      "projection for |ϕ>=|01110> == 0.1649759395827755\n",
      "projection for |ϕ>=|01111> == 0.07360940726543948\n",
      "projection for |ϕ>=|10000> == 0.1951842933001716\n",
      "projection for |ϕ>=|10001> == 0.26136873545972766\n",
      "projection for |ϕ>=|10010> == 0.025709290092089575\n",
      "projection for |ϕ>=|10011> == 0.006209746648756826\n",
      "projection for |ϕ>=|10100> == 0.22926025709711081\n",
      "projection for |ϕ>=|10101> == 0.1868479940335276\n",
      "projection for |ϕ>=|10110> == 0.0949653373868642\n",
      "projection for |ϕ>=|10111> == 0.1580739284301175\n",
      "projection for |ϕ>=|11000> == 0.11970561924843487\n",
      "projection for |ϕ>=|11001> == 0.03375671130204443\n",
      "projection for |ϕ>=|11010> == 0.20023066144074517\n",
      "projection for |ϕ>=|11011> == 0.13517518021927463\n",
      "projection for |ϕ>=|11100> == 0.3002853722162096\n",
      "projection for |ϕ>=|11101> == 0.2608332206951448\n",
      "projection for |ϕ>=|11110> == 0.1528059545912106\n",
      "projection for |ϕ>=|11111> == 0.05251059639795572\n"
     ]
    }
   ],
   "source": [
    "#=\n",
    "    This section test for transform_mps! (Part II)\n",
    "=#\n",
    "Φ = rand_pure_state(5)\n",
    "for each in Φ\n",
    "    println(each)\n",
    "end\n",
    "mps = transform_mps2!(Φ)\n",
    "projection_all(mps)"
   ]
  },
  {
   "cell_type": "code",
   "execution_count": null,
   "metadata": {},
   "outputs": [],
   "source": []
  },
  {
   "cell_type": "code",
   "execution_count": null,
   "metadata": {},
   "outputs": [],
   "source": []
  }
 ],
 "metadata": {
  "kernelspec": {
   "display_name": "Julia 1.3.0",
   "language": "julia",
   "name": "julia-1.3"
  },
  "language_info": {
   "file_extension": ".jl",
   "mimetype": "application/julia",
   "name": "julia",
   "version": "1.3.0"
  }
 },
 "nbformat": 4,
 "nbformat_minor": 2
}
