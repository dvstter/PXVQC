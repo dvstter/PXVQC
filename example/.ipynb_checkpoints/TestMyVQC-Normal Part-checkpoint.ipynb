{
 "cells": [
  {
   "cell_type": "markdown",
   "metadata": {},
   "source": [
    "##### NOTICE\n",
    "Test for MyVQC module"
   ]
  },
  {
   "cell_type": "code",
   "execution_count": 1,
   "metadata": {},
   "outputs": [
    {
     "name": "stderr",
     "output_type": "stream",
     "text": [
      "┌ Info: Precompiling MyVQC [top-level]\n",
      "└ @ Base loading.jl:1273\n",
      "ERROR: LoadError: LoadError: UndefVarError: io not defined\n",
      "Stacktrace:\n",
      " [1] top-level scope at /Users/yanghanlin/Desktop/PXVQC/struct.jl:80\n",
      " [2] include at ./boot.jl:328 [inlined]\n",
      " [3] include_relative(::Module, ::String) at ./loading.jl:1105\n",
      " [4] include at ./Base.jl:31 [inlined]\n",
      " [5] include(::String) at /Users/yanghanlin/Desktop/PXVQC/MyVQC.jl:1\n",
      " [6] top-level scope at /Users/yanghanlin/Desktop/PXVQC/MyVQC.jl:7\n",
      " [7] include at ./boot.jl:328 [inlined]\n",
      " [8] include_relative(::Module, ::String) at ./loading.jl:1105\n",
      " [9] include(::Module, ::String) at ./Base.jl:31\n",
      " [10] top-level scope at none:2\n",
      " [11] eval at ./boot.jl:330 [inlined]\n",
      " [12] eval(::Expr) at ./client.jl:425\n",
      " [13] top-level scope at ./none:3\n",
      "in expression starting at /Users/yanghanlin/Desktop/PXVQC/struct.jl:80\n",
      "in expression starting at /Users/yanghanlin/Desktop/PXVQC/MyVQC.jl:7\n"
     ]
    },
    {
     "ename": "ErrorException",
     "evalue": "Failed to precompile MyVQC [top-level] to /Users/yanghanlin/.julia/compiled/v1.3/MyVQC.ji.",
     "output_type": "error",
     "traceback": [
      "Failed to precompile MyVQC [top-level] to /Users/yanghanlin/.julia/compiled/v1.3/MyVQC.ji.",
      "",
      "Stacktrace:",
      " [1] error(::String) at ./error.jl:33",
      " [2] compilecache(::Base.PkgId, ::String) at ./loading.jl:1283",
      " [3] _require(::Base.PkgId) at ./loading.jl:1024",
      " [4] require(::Base.PkgId) at ./loading.jl:922",
      " [5] require(::Module, ::Symbol) at ./loading.jl:917",
      " [6] top-level scope at In[1]:2"
     ]
    }
   ],
   "source": [
    "push!(LOAD_PATH, \"../\")\n",
    "using MyVQC"
   ]
  },
  {
   "cell_type": "code",
   "execution_count": 4,
   "metadata": {},
   "outputs": [
    {
     "name": "stdout",
     "output_type": "stream",
     "text": [
      "probability for #1 qubit in |0> : 0.4132155134543502\n",
      "probability for |0> : 0.41321551345435004\n"
     ]
    },
    {
     "data": {
      "text/plain": [
       "1"
      ]
     },
     "execution_count": 4,
     "metadata": {},
     "output_type": "execute_result"
    }
   ],
   "source": [
    "#=\n",
    "    This section test for quantum teleportation\n",
    "=#\n",
    "\n",
    "mps = initmps([undef,0,0])\n",
    "qtelecircuit = initcircuit()\n",
    "println(\"probability for #1 qubit in |0> : \", mps.data[1][1,1,1]^2)\n",
    "\n",
    "# prepare EPR pair\n",
    "add_gate(qtelecircuit, hadamard(2))\n",
    "add_gate(qtelecircuit, cnot(2,3))\n",
    "\n",
    "# quantum teleportation\n",
    "add_gate(qtelecircuit, cnot(1,2))\n",
    "add_gate(qtelecircuit, hadamard(1))\n",
    "apply!(mps, qtelecircuit)\n",
    "M₁ = measure(mps, 1)\n",
    "M₂ = measure(mps, 2)\n",
    "\n",
    "M₂ == 1 && 𝑿!(mps, 3)\n",
    "M₁ == 1 && 𝒁!(mps, 3)\n",
    "measure(mps, 3, true)\n",
    "\n",
    "# NOTES: See the print"
   ]
  }
 ],
 "metadata": {
  "kernelspec": {
   "display_name": "Julia 1.3.0",
   "language": "julia",
   "name": "julia-1.3"
  },
  "language_info": {
   "file_extension": ".jl",
   "mimetype": "application/julia",
   "name": "julia",
   "version": "1.3.0"
  }
 },
 "nbformat": 4,
 "nbformat_minor": 2
}
