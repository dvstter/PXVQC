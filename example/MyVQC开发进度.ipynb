{
 "cells": [
  {
   "cell_type": "markdown",
   "metadata": {},
   "source": [
    "### BUG\n",
    "1. 无法利用for遍历QuantumCircuit（语言问题）\n",
    "2. phase estimation部分，QFT已经实现了，但是概率幅不一样，不过最终概率是一样的，不知道是MPS本身的特性导致的，还是什么原因（MPS原理问题）\n",
    "3. 将arbitrary quantum state转换成MPS的时候，不知道为什么概率幅是反的，因此用了一种取巧的办法，将state首先取反（这种方法是正确的，并不是取巧，因为arbitrary quantum state隐含了有tensor product，因此reshape后的结果不正确）\n",
    "\n",
    "### 开发进度\n",
    "1. 将canonical form整合进MyVQC\n",
    "2. shots函数还没有实现\n",
    "3. 将transform arbitrary quantum state to mps的函数整合\n",
    "4. 编写一个测试库，用矩阵的方式实现量子态和门，这要方便后续的测试"
   ]
  }
 ],
 "metadata": {
  "kernelspec": {
   "display_name": "Julia 1.3.0",
   "language": "julia",
   "name": "julia-1.3"
  },
  "language_info": {
   "file_extension": ".jl",
   "mimetype": "application/julia",
   "name": "julia",
   "version": "1.3.0"
  }
 },
 "nbformat": 4,
 "nbformat_minor": 2
}
