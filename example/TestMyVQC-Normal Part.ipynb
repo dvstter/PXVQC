{
 "cells": [
  {
   "cell_type": "markdown",
   "metadata": {},
   "source": [
    "##### NOTICE\n",
    "Test for MyVQC module"
   ]
  },
  {
   "cell_type": "code",
   "execution_count": 1,
   "metadata": {},
   "outputs": [],
   "source": [
    "push!(LOAD_PATH, \"../\")\n",
    "using MyVQC"
   ]
  },
  {
   "cell_type": "code",
   "execution_count": 5,
   "metadata": {},
   "outputs": [
    {
     "name": "stdout",
     "output_type": "stream",
     "text": [
      "probability for #1 qubit in |0> : 0.3950388671207247\n",
      "probability for |0> : 0.39503886712072456\n",
      "false\n"
     ]
    },
    {
     "ename": "MethodError",
     "evalue": "MethodError: no method matching iterate(::QuantumCircuit)\nClosest candidates are:\n  iterate(::QuantumCircuit, !Matched::Int64) at /Users/yanghanlin/Desktop/PXVQC/struct.jl:56\n  iterate(!Matched::Core.SimpleVector) at essentials.jl:600\n  iterate(!Matched::Core.SimpleVector, !Matched::Any) at essentials.jl:600\n  ...",
     "output_type": "error",
     "traceback": [
      "MethodError: no method matching iterate(::QuantumCircuit)\nClosest candidates are:\n  iterate(::QuantumCircuit, !Matched::Int64) at /Users/yanghanlin/Desktop/PXVQC/struct.jl:56\n  iterate(!Matched::Core.SimpleVector) at essentials.jl:600\n  iterate(!Matched::Core.SimpleVector, !Matched::Any) at essentials.jl:600\n  ...",
      "",
      "Stacktrace:",
      " [1] top-level scope at ./In[5]:25"
     ]
    }
   ],
   "source": [
    "#=\n",
    "    This section test for quantum teleportation\n",
    "=#\n",
    "\n",
    "mps = initmps([undef,0,0])\n",
    "qtelecircuit = initcircuit()\n",
    "println(\"probability for #1 qubit in |0> : \", mps.data[1][1,1,1]^2)\n",
    "\n",
    "# prepare EPR pair\n",
    "push!(qtelecircuit, hadamard(2))\n",
    "push!(qtelecircuit, cnot(2,3))\n",
    "\n",
    "# quantum teleportation\n",
    "push!(qtelecircuit, cnot(1,2))\n",
    "push!(qtelecircuit, hadamard(1))\n",
    "#println(qtelecircuit) # before apply, let's see the output of the qcircuit\n",
    "apply!(mps, qtelecircuit)\n",
    "M₁ = measure!(mps, 1)\n",
    "M₂ = measure!(mps, 2)\n",
    "\n",
    "M₂ == 1 && 𝑿!(mps, 3)\n",
    "M₁ == 1 && 𝒁!(mps, 3)\n",
    "measure!(mps, 3, true)\n",
    "\n",
    "for each in qtelecircuit\n",
    "    println(each.description)\n",
    "end\n",
    "\n",
    "# NOTES: See the print"
   ]
  },
  {
   "cell_type": "code",
   "execution_count": null,
   "metadata": {},
   "outputs": [],
   "source": []
  }
 ],
 "metadata": {
  "kernelspec": {
   "display_name": "Julia 1.3.0",
   "language": "julia",
   "name": "julia-1.3"
  },
  "language_info": {
   "file_extension": ".jl",
   "mimetype": "application/julia",
   "name": "julia",
   "version": "1.3.0"
  }
 },
 "nbformat": 4,
 "nbformat_minor": 2
}
