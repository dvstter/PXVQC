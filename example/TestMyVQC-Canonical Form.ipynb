{
 "cells": [
  {
   "cell_type": "code",
   "execution_count": 1,
   "metadata": {},
   "outputs": [],
   "source": [
    "push!(LOAD_PATH, \"../\")\n",
    "using MyVQC"
   ]
  },
  {
   "cell_type": "code",
   "execution_count": 16,
   "metadata": {},
   "outputs": [
    {
     "data": {
      "text/plain": [
       "tsvd_canonical (generic function with 1 method)"
      ]
     },
     "execution_count": 16,
     "metadata": {},
     "output_type": "execute_result"
    }
   ],
   "source": [
    "using LinearAlgebra\n",
    "\n",
    "# NOTES: this canonical form will be left-normalized\n",
    "function tsvd_canonical(a::AbstractArray{𝕋, ℕ}) where {𝕋, ℕ}\n",
    "    a = Number.(a)\n",
    "    sizeA = size(a)\n",
    "    lsize = [sizeA[1], sizeA[2]]\n",
    "    rsize = sizeA[3]\n",
    "    F = svd(reshape(a, prod(lsize), rsize))\n",
    "    u = F.U\n",
    "    vt = Diagonal(F.S) * F.Vt # absorbed s to vt\n",
    "    # I think this procedure don't need to be transpose\n",
    "    #v = transpose(vt)\n",
    "    \n",
    "    # reshape to original order\n",
    "    dim = length(F.S)\n",
    "    return (reshape(u, lsize..., dim), vt)\n",
    "end"
   ]
  },
  {
   "cell_type": "code",
   "execution_count": 17,
   "metadata": {},
   "outputs": [
    {
     "name": "stdout",
     "output_type": "stream",
     "text": [
      "(1, 2, 2)(2, 5)\n"
     ]
    }
   ],
   "source": [
    "a = reshape(rand(10), 1, 2, 5)\n",
    "u, vt = tsvd_canonical(a)\n",
    "println(size(u), size(vt))"
   ]
  },
  {
   "cell_type": "code",
   "execution_count": 29,
   "metadata": {},
   "outputs": [
    {
     "data": {
      "text/plain": [
       "transform_canonical! (generic function with 1 method)"
      ]
     },
     "execution_count": 29,
     "metadata": {},
     "output_type": "execute_result"
    }
   ],
   "source": [
    "function transform_canonical!(sys::MPS)\n",
    "    for i in 1:(length(sys.data)-1)\n",
    "        si, vt = tsvd_canonical(sys.data[i])\n",
    "        sys.data[i] = si\n",
    "        sys.data[i+1] = contract(vt, sys.data[i+1], (2,), (1,))\n",
    "    end\n",
    "end"
   ]
  },
  {
   "cell_type": "code",
   "execution_count": 35,
   "metadata": {},
   "outputs": [
    {
     "name": "stdout",
     "output_type": "stream",
     "text": [
      "\n",
      "projection for |ϕ>=|000> == 0.7071067811865472\n",
      "projection for |ϕ>=|001> == 0.0\n",
      "projection for |ϕ>=|010> == 0.0\n",
      "projection for |ϕ>=|011> == 0.0\n",
      "projection for |ϕ>=|100> == 0.0\n",
      "projection for |ϕ>=|101> == 0.7071067811865472\n",
      "projection for |ϕ>=|110> == 0.0\n",
      "projection for |ϕ>=|111> == 0.0\n"
     ]
    }
   ],
   "source": [
    "# test canonical form for EPR state\n",
    "mps = initmps([0,0,0])\n",
    "circuit = initcircuit()\n",
    "push!(circuit, hadamard(1))\n",
    "push!(circuit, cnot(1,3))\n",
    "apply!(mps, circuit)\n",
    "transform_canonical!(mps)\n",
    "projection_all(mps)"
   ]
  },
  {
   "cell_type": "code",
   "execution_count": 50,
   "metadata": {},
   "outputs": [
    {
     "name": "stdout",
     "output_type": "stream",
     "text": [
      "probability for #1 qubit in |0> : 0.43173225207668126\n",
      "probability for |0> : 0.4317322520766812\n",
      "probability for |0> : 0.4317322520766815\n"
     ]
    },
    {
     "data": {
      "text/plain": [
       "0"
      ]
     },
     "execution_count": 50,
     "metadata": {},
     "output_type": "execute_result"
    }
   ],
   "source": [
    "# test canonical form for quantum teleportation\n",
    "mps = initmps([undef,0,0])\n",
    "qtelecircuit = initcircuit()\n",
    "println(\"probability for #1 qubit in |0> : \", mps.data[1][1,1,1]^2)\n",
    "\n",
    "# prepare EPR pair\n",
    "push!(qtelecircuit, hadamard(2))\n",
    "push!(qtelecircuit, cnot(2,3))\n",
    "# quantum teleportation\n",
    "push!(qtelecircuit, cnot(1,2))\n",
    "push!(qtelecircuit, hadamard(1))\n",
    "apply!(mps, qtelecircuit)\n",
    "M₁ = measure!(mps, 1)\n",
    "M₂ = measure!(mps, 2)\n",
    "M₂ == 1 && 𝑿!(mps, 3)\n",
    "M₁ == 1 && 𝒁!(mps, 3)\n",
    "\n",
    "# measure the original mps system and saved for canonical form\n",
    "mps_saved = deepcopy(mps)\n",
    "measure!(mps, 3, true)\n",
    "transform_canonical!(mps_saved)\n",
    "measure!(mps_saved, 3, true)\n",
    "\n",
    "# NOTES: See the print"
   ]
  },
  {
   "cell_type": "code",
   "execution_count": null,
   "metadata": {},
   "outputs": [],
   "source": []
  }
 ],
 "metadata": {
  "kernelspec": {
   "display_name": "Julia 1.3.0",
   "language": "julia",
   "name": "julia-1.3"
  },
  "language_info": {
   "file_extension": ".jl",
   "mimetype": "application/julia",
   "name": "julia",
   "version": "1.3.0"
  }
 },
 "nbformat": 4,
 "nbformat_minor": 2
}
